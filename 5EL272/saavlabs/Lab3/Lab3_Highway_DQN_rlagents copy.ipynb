{
 "cells": [
  {
   "cell_type": "code",
   "execution_count": null,
   "metadata": {
    "id": "Kx8X4s8krNWt"
   },
   "outputs": [],
   "source": [
    "import gym\n",
    "import highway_env\n",
    "import os\n",
    "import sys\n",
    "%load_ext tensorboard\n",
    "!git clone https://github.com/eleurent/highway-env.git\n",
    "sys.path.insert(0, os.path.abspath('highway-env/scripts/'))\n",
    "from utils import record_videos,show_videos\n",
    "import imageio_ffmpeg"
   ]
  },
  {
   "cell_type": "code",
   "execution_count": null,
   "metadata": {
    "id": "QowKW3ix45ZW"
   },
   "outputs": [],
   "source": [
    "from rl_agents.trainer.evaluation import Evaluation\n",
    "from rl_agents.agents.common.factory import load_agent, load_environment\n",
    "\n",
    "# Get the environment and agent configurations from the rl-agents repository\n",
    "!git clone https://github.com/eleurent/rl-agents.git\n",
    "env_config = '/uday/rl-agents/scripts/configs/HighwayEnv/env.json'\n",
    "agent_config = '/uday/rl-agents/scripts/configs/HighwayEnv/agents/DQNAgent/dqn.json'\n",
    "\n",
    "env = load_environment(env_config)\n",
    "import pprint\n",
    "from matplotlib import pyplot as plt\n",
    "env.config[\"lane_change_reward\"] = 0\n",
    "env.config[\"vehicles_count\"] = 0\n",
    "#env.config['reward_speed_range'] = [0, 100]\n",
    "env.config[\"lanes_count\"] = 2\n",
    "env.config[\"initial_lane_id\"] = 0\n",
    "pprint.pprint(env.config)\n",
    "pprint.pprint(agent_config)\n",
    "\n",
    "env.reset()\n",
    "# plt.imshow(env.render(mode=\"rgb_array\"))\n",
    "plt.imshow(env.render())\n",
    "plt.show()\n",
    "\n",
    "agent = load_agent(agent_config, env)\n",
    "evaluation = Evaluation(env, agent, num_episodes=10, display_env=False)\n",
    "print(f\"Ready to train {agent} on {env}\")"
   ]
  },
  {
   "cell_type": "markdown",
   "metadata": {
    "id": "BtK9dtfb0JMF"
   },
   "source": [
    "Start training. Run tensorboard locally to visualize training."
   ]
  },
  {
   "cell_type": "code",
   "execution_count": null,
   "metadata": {
    "id": "sFVq1gFz42Eg"
   },
   "outputs": [],
   "source": [
    "%tensorboard --logdir \"{evaluation.directory}\"\n",
    "evaluation.train()"
   ]
  },
  {
   "cell_type": "markdown",
   "metadata": {
    "id": "-lNvWg42RWiw"
   },
   "source": [
    "Progress can be visualised in the tensorboard cell above, which should update every 30s (or manually). You may need to click the *Fit domain to data* buttons below each graph."
   ]
  },
  {
   "cell_type": "markdown",
   "metadata": {
    "id": "VKfvu5uhzCIU"
   },
   "source": [
    "## Testing\n",
    "\n",
    "Run the learned policy for a few episodes."
   ]
  },
  {
   "cell_type": "code",
   "execution_count": null,
   "metadata": {
    "id": "gY0rpVYUtRpN"
   },
   "outputs": [],
   "source": [
    "#env = load_environment(env_config)\n",
    "env.configure({\"offscreen_rendering\": True})\n",
    "env.render(mode=\"rgb_array\")\n",
    "##env = record_videos(env)\n",
    "agent = load_agent(agent_config, env)\n",
    "evaluation = Evaluation(env, agent, num_episodes=3, recover=True)\n",
    "evaluation.test()\n",
    "show_videos(evaluation.run_directory)"
   ]
  }
 ],
 "metadata": {
  "accelerator": "GPU",
  "colab": {
   "provenance": []
  },
  "kernelspec": {
   "display_name": "Python 3 (ipykernel)",
   "language": "python",
   "name": "python3"
  },
  "language_info": {
   "codemirror_mode": {
    "name": "ipython",
    "version": 3
   },
   "file_extension": ".py",
   "mimetype": "text/x-python",
   "name": "python",
   "nbconvert_exporter": "python",
   "pygments_lexer": "ipython3",
   "version": "3.11.6"
  },
  "pycharm": {
   "stem_cell": {
    "cell_type": "raw",
    "metadata": {
     "collapsed": false
    },
    "source": []
   }
  }
 },
 "nbformat": 4,
 "nbformat_minor": 0
}
