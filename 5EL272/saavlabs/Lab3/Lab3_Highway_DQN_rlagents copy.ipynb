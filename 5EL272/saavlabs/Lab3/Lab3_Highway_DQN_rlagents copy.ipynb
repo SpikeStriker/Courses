{
 "cells": [
  {
   "cell_type": "code",
   "execution_count": null,
   "metadata": {
    "id": "Kx8X4s8krNWt"
   },
   "outputs": [],
   "source": [
    "import warnings\n",
    "warnings.filterwarnings(\"ignore\")\n",
    "import gym\n",
    "import highway_env\n",
    "import os\n",
    "import sys\n",
    "%load_ext tensorboard\n",
    "!git clone https://github.com/eleurent/highway-env.git\n",
    "sys.path.insert(0, os.path.abspath('highway-env/scripts/'))\n",
    "from utils import record_videos,show_videos\n",
    "import imageio_ffmpeg"
   ]
  },
  {
   "cell_type": "code",
   "execution_count": null,
   "metadata": {},
   "outputs": [],
   "source": [
    "!rm -r '/uday/out/HighwayEnv/DQNAgent/'"
   ]
  },
  {
   "cell_type": "code",
   "execution_count": null,
   "metadata": {},
   "outputs": [],
   "source": [
    "from rl_agents.trainer.evaluation import Evaluation\n",
    "from rl_agents.agents.common.factory import load_agent, load_environment\n",
    "\n",
    "!git clone https://github.com/eleurent/rl-agents.git\n",
    "env_config = '/uday/rl-agents/scripts/configs/HighwayEnv/env.json'\n",
    "agent_config = '/uday/rl-agents/scripts/configs/HighwayEnv/agents/DQNAgent/dqn.json'\n",
    "import pprint\n",
    "from matplotlib import pyplot as plt"
   ]
  },
  {
   "cell_type": "markdown",
   "metadata": {},
   "source": [
    "**Basic Environment:**\n",
    "\n",
    "*Env 0*"
   ]
  },
  {
   "cell_type": "code",
   "execution_count": null,
   "metadata": {},
   "outputs": [],
   "source": [
    "env = load_environment(env_config)\n",
    "env.config[\"lane_change_reward\"] = 0\n",
    "env.config[\"vehicles_count\"] = 0\n",
    "env.config[\"lanes_count\"] = 2\n",
    "env.config[\"initial_lane_id\"] = 0\n",
    "pprint.pprint(env.config)\n",
    "env.reset()\n",
    "plt.imshow(env.render())\n",
    "plt.show()"
   ]
  },
  {
   "cell_type": "code",
   "execution_count": null,
   "metadata": {},
   "outputs": [],
   "source": [
    "agent = load_agent(agent_config, env)\n",
    "agent.config[\"duration\"]=40\n",
    "agent.config[\"gamma\"]=0.6\n",
    "agent.config[\"exploration\"][\"tau\"]=600\n",
    "agent.config[\"exploration\"][\"temperature\"]=0.99\n",
    "agent.config[\"exploration\"][\"final_temperature\"]=0.7\n",
    "agent.config[\"device\"]='cuda:0'\n",
    "# pprint.pprint(agent.config)\n",
    "evaluation = Evaluation(env, agent, num_episodes=5000, display_env=False)\n",
    "print(f\"Ready to train {agent} on {env}\")"
   ]
  },
  {
   "cell_type": "code",
   "execution_count": null,
   "metadata": {},
   "outputs": [],
   "source": [
    "%tensorboard --logdir \"{evaluation.directory}\"\n",
    "evaluation.train()"
   ]
  },
  {
   "cell_type": "code",
   "execution_count": null,
   "metadata": {},
   "outputs": [],
   "source": [
    "env.configure({\"offscreen_rendering\": True})\n",
    "env.render()\n",
    "agent = load_agent(agent_config, env)\n",
    "evaluation = Evaluation(env, agent, num_episodes=5, recover=True)\n",
    "evaluation.test()\n",
    "show_videos(evaluation.run_directory)"
   ]
  },
  {
   "cell_type": "markdown",
   "metadata": {},
   "source": [
    "**Adding cars to the Environment:**\n",
    "\n",
    "*Env 1*"
   ]
  },
  {
   "cell_type": "code",
   "execution_count": null,
   "metadata": {},
   "outputs": [],
   "source": [
    "env = load_environment(env_config)\n",
    "env.config[\"lane_change_reward\"] = 0\n",
    "env.config[\"vehicles_count\"] = 10\n",
    "env.config[\"lanes_count\"] = 2\n",
    "env.config[\"initial_lane_id\"] = 0\n",
    "# env.config['reward_speed_range'] = [20, 30]\n",
    "env.config[\"vehicles_density\"]=1\n",
    "\n",
    "pprint.pprint(env.config)\n",
    "env.reset()\n",
    "plt.imshow(env.render())\n",
    "plt.show()"
   ]
  },
  {
   "cell_type": "code",
   "execution_count": null,
   "metadata": {},
   "outputs": [],
   "source": [
    "agent = load_agent(agent_config, env)\n",
    "agent.config[\"duration\"]=40\n",
    "agent.config[\"gamma\"]=0.6\n",
    "agent.config[\"exploration\"][\"tau\"]=600\n",
    "agent.config[\"exploration\"][\"temperature\"]=0.99\n",
    "agent.config[\"exploration\"][\"final_temperature\"]=0.7\n",
    "agent.config[\"device\"]='cuda:0'\n",
    "# pprint.pprint(agent.config)\n",
    "evaluation = Evaluation(env, agent, num_episodes=5000, display_env=False)\n",
    "print(f\"Ready to train {agent} on {env}\")"
   ]
  },
  {
   "cell_type": "code",
   "execution_count": null,
   "metadata": {},
   "outputs": [],
   "source": [
    "%tensorboard --logdir \"{evaluation.directory}\"\n",
    "evaluation.train()"
   ]
  },
  {
   "cell_type": "code",
   "execution_count": null,
   "metadata": {},
   "outputs": [],
   "source": [
    "env.configure({\"offscreen_rendering\": True})\n",
    "env.render()\n",
    "agent = load_agent(agent_config, env)\n",
    "evaluation = Evaluation(env, agent, num_episodes=5, recover=True)\n",
    "evaluation.test()\n",
    "show_videos(evaluation.run_directory)"
   ]
  },
  {
   "cell_type": "markdown",
   "metadata": {},
   "source": [
    "**Adding lane change penalty to the Environment: Env 1**"
   ]
  },
  {
   "cell_type": "code",
   "execution_count": null,
   "metadata": {},
   "outputs": [],
   "source": [
    "env = load_environment(env_config)\n",
    "env.config[\"lane_change_reward\"] = -0.1\n",
    "env.config[\"vehicles_count\"] = 10\n",
    "env.config[\"lanes_count\"] = 2\n",
    "env.config[\"initial_lane_id\"] = 0\n",
    "# env.config['reward_speed_range'] = [20, 30]\n",
    "env.config[\"vehicles_density\"]=1\n",
    "\n",
    "pprint.pprint(env.config)\n",
    "env.reset()\n",
    "plt.imshow(env.render())\n",
    "plt.show()"
   ]
  },
  {
   "cell_type": "code",
   "execution_count": null,
   "metadata": {},
   "outputs": [],
   "source": [
    "agent = load_agent(agent_config, env)\n",
    "agent.config[\"duration\"]=40\n",
    "agent.config[\"gamma\"]=0.6\n",
    "agent.config[\"exploration\"][\"tau\"]=600\n",
    "agent.config[\"exploration\"][\"temperature\"]=0.99\n",
    "agent.config[\"exploration\"][\"final_temperature\"]=0.7\n",
    "agent.config[\"device\"]='cuda:0'\n",
    "# pprint.pprint(agent.config)\n",
    "evaluation = Evaluation(env, agent, num_episodes=5000, display_env=False)\n",
    "print(f\"Ready to train {agent} on {env}\")"
   ]
  },
  {
   "cell_type": "code",
   "execution_count": null,
   "metadata": {},
   "outputs": [],
   "source": [
    "%tensorboard --logdir \"{evaluation.directory}\"\n",
    "evaluation.train()"
   ]
  },
  {
   "cell_type": "code",
   "execution_count": null,
   "metadata": {},
   "outputs": [],
   "source": [
    "env.configure({\"offscreen_rendering\": True})\n",
    "env.render()\n",
    "agent = load_agent(agent_config, env)\n",
    "evaluation = Evaluation(env, agent, num_episodes=5, recover=True)\n",
    "evaluation.test()\n",
    "show_videos(evaluation.run_directory)"
   ]
  },
  {
   "cell_type": "markdown",
   "metadata": {},
   "source": [
    "**Increasing lane change penalty to the Environment: Env 1**"
   ]
  },
  {
   "cell_type": "code",
   "execution_count": null,
   "metadata": {},
   "outputs": [],
   "source": [
    "env = load_environment(env_config)\n",
    "env.config[\"lane_change_reward\"] = -1\n",
    "env.config[\"vehicles_count\"] = 10\n",
    "env.config[\"lanes_count\"] = 2\n",
    "env.config[\"initial_lane_id\"] = 0\n",
    "# env.config['reward_speed_range'] = [20, 30]\n",
    "env.config[\"vehicles_density\"]=1\n",
    "\n",
    "pprint.pprint(env.config)\n",
    "env.reset()\n",
    "plt.imshow(env.render())\n",
    "plt.show()"
   ]
  },
  {
   "cell_type": "code",
   "execution_count": null,
   "metadata": {},
   "outputs": [],
   "source": [
    "agent = load_agent(agent_config, env)\n",
    "agent.config[\"duration\"]=40\n",
    "agent.config[\"gamma\"]=0.6\n",
    "agent.config[\"exploration\"][\"tau\"]=600\n",
    "agent.config[\"exploration\"][\"temperature\"]=0.99\n",
    "agent.config[\"exploration\"][\"final_temperature\"]=0.7\n",
    "agent.config[\"device\"]='cuda:0'\n",
    "# pprint.pprint(agent.config)\n",
    "evaluation = Evaluation(env, agent, num_episodes=5000, display_env=False)\n",
    "print(f\"Ready to train {agent} on {env}\")"
   ]
  },
  {
   "cell_type": "code",
   "execution_count": null,
   "metadata": {},
   "outputs": [],
   "source": [
    "%tensorboard --logdir \"{evaluation.directory}\"\n",
    "evaluation.train()"
   ]
  },
  {
   "cell_type": "code",
   "execution_count": null,
   "metadata": {},
   "outputs": [],
   "source": [
    "env.configure({\"offscreen_rendering\": True})\n",
    "env.render()\n",
    "agent = load_agent(agent_config, env)\n",
    "evaluation = Evaluation(env, agent, num_episodes=5, recover=True)\n",
    "evaluation.test()\n",
    "show_videos(evaluation.run_directory)"
   ]
  },
  {
   "cell_type": "markdown",
   "metadata": {},
   "source": [
    "**Increasing complexity to ensure collision in Env 1:**\n",
    "*Env 2*"
   ]
  },
  {
   "cell_type": "code",
   "execution_count": null,
   "metadata": {},
   "outputs": [],
   "source": [
    "env = load_environment(env_config)\n",
    "env.config[\"lane_change_reward\"] = 0\n",
    "env.config[\"vehicles_count\"] = 10\n",
    "env.config[\"lanes_count\"] = 2\n",
    "env.config[\"initial_lane_id\"] = 0\n",
    "env.config['reward_speed_range'] = [40, 80]\n",
    "env.config[\"vehicles_density\"]=2\n",
    "\n",
    "pprint.pprint(env.config)\n",
    "env.reset()\n",
    "plt.imshow(env.render())\n",
    "plt.show()"
   ]
  },
  {
   "cell_type": "code",
   "execution_count": null,
   "metadata": {},
   "outputs": [],
   "source": [
    "agent = load_agent(agent_config, env)\n",
    "agent.config[\"duration\"]=40\n",
    "agent.config[\"gamma\"]=0.6\n",
    "agent.config[\"exploration\"][\"tau\"]=600\n",
    "agent.config[\"exploration\"][\"temperature\"]=0.99\n",
    "agent.config[\"exploration\"][\"final_temperature\"]=0.7\n",
    "agent.config[\"device\"]='cuda:0'\n",
    "evaluation = Evaluation(env, agent, num_episodes=5000, display_env=False)\n",
    "print(f\"Ready to train {agent} on {env}\")"
   ]
  },
  {
   "cell_type": "code",
   "execution_count": null,
   "metadata": {},
   "outputs": [],
   "source": [
    "%tensorboard --logdir \"{evaluation.directory}\"\n",
    "evaluation.train()"
   ]
  },
  {
   "cell_type": "code",
   "execution_count": null,
   "metadata": {},
   "outputs": [],
   "source": [
    "env.configure({\"offscreen_rendering\": True})\n",
    "env.render()\n",
    "agent = load_agent(agent_config, env)\n",
    "evaluation = Evaluation(env, agent, num_episodes=5, recover=True)\n",
    "evaluation.test()\n",
    "show_videos(evaluation.run_directory)"
   ]
  },
  {
   "cell_type": "code",
   "execution_count": null,
   "metadata": {},
   "outputs": [],
   "source": []
  },
  {
   "cell_type": "code",
   "execution_count": null,
   "metadata": {},
   "outputs": [],
   "source": []
  },
  {
   "cell_type": "code",
   "execution_count": null,
   "metadata": {
    "id": "QowKW3ix45ZW"
   },
   "outputs": [],
   "source": [
    "from rl_agents.trainer.evaluation import Evaluation\n",
    "from rl_agents.agents.common.factory import load_agent, load_environment\n",
    "\n",
    "!git clone https://github.com/eleurent/rl-agents.git\n",
    "env_config = '/uday/rl-agents/scripts/configs/HighwayEnv/env.json'\n",
    "agent_config = '/uday/rl-agents/scripts/configs/HighwayEnv/agents/DQNAgent/dqn.json'\n",
    "\n",
    "env = load_environment(env_config)\n",
    "import pprint\n",
    "from matplotlib import pyplot as plt\n",
    "env.config[\"lane_change_reward\"] = 0\n",
    "env.config[\"vehicles_count\"] = 15\n",
    "env.config['reward_speed_range'] = [40, 70]\n",
    "env.config[\"lanes_count\"] = 3\n",
    "env.config[\"initial_lane_id\"] = 0\n",
    "env.config[\"vehicles_density\"]=2\n",
    "pprint.pprint(env.config)\n",
    "env.reset()\n",
    "plt.imshow(env.render())\n",
    "plt.show()\n",
    "\n",
    "agent = load_agent(agent_config, env)\n",
    "agent.config[\"duration\"]=40\n",
    "agent.config[\"gamma\"]=0.6\n",
    "agent.config[\"exploration\"][\"tau\"]=600\n",
    "agent.config[\"exploration\"][\"temperature\"]=0.99\n",
    "agent.config[\"exploration\"][\"final_temperature\"]=0.7\n",
    "agent.config[\"device\"]='cuda:0'\n",
    "\n",
    "pprint.pprint(agent.config)\n",
    "evaluation = Evaluation(env, agent, num_episodes=3000, display_env=False)\n",
    "\n",
    "print(f\"Ready to train {agent} on {env}\")"
   ]
  },
  {
   "cell_type": "code",
   "execution_count": null,
   "metadata": {
    "id": "sFVq1gFz42Eg"
   },
   "outputs": [],
   "source": [
    "%tensorboard --logdir \"{evaluation.directory}\"\n",
    "evaluation.train()"
   ]
  },
  {
   "cell_type": "code",
   "execution_count": null,
   "metadata": {
    "id": "gY0rpVYUtRpN"
   },
   "outputs": [],
   "source": []
  },
  {
   "cell_type": "code",
   "execution_count": null,
   "metadata": {},
   "outputs": [],
   "source": []
  },
  {
   "cell_type": "code",
   "execution_count": null,
   "metadata": {},
   "outputs": [],
   "source": []
  }
 ],
 "metadata": {
  "accelerator": "GPU",
  "colab": {
   "provenance": []
  },
  "kernelspec": {
   "display_name": "Python 3 (ipykernel)",
   "language": "python",
   "name": "python3"
  },
  "language_info": {
   "codemirror_mode": {
    "name": "ipython",
    "version": 3
   },
   "file_extension": ".py",
   "mimetype": "text/x-python",
   "name": "python",
   "nbconvert_exporter": "python",
   "pygments_lexer": "ipython3",
   "version": "3.10.13"
  },
  "pycharm": {
   "stem_cell": {
    "cell_type": "raw",
    "metadata": {
     "collapsed": false
    },
    "source": []
   }
  }
 },
 "nbformat": 4,
 "nbformat_minor": 0
}
